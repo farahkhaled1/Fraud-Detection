{
  "cells": [
    {
      "cell_type": "code",
      "execution_count": 46,
      "metadata": {
        "id": "LvkfReOOi13a"
      },
      "outputs": [],
      "source": [
        "import pandas as pd # data processing\n",
        "import numpy as np # working with arrays\n",
        "import matplotlib.pyplot as plt # visualization\n",
        "from termcolor import colored as cl # text customization\n",
        "import itertools # advanced tools\n",
        "import plotly.graph_objects as go\n",
        "from sklearn.neural_network import MLPClassifier\n",
        "from imblearn.over_sampling import SMOTE\n",
        "from sklearn.preprocessing import StandardScaler # data normalization\n",
        "from sklearn.model_selection import train_test_split # data split\n",
        "from sklearn.tree import DecisionTreeClassifier # Decision tree algorithm\n",
        "from sklearn.neighbors import KNeighborsClassifier # KNN algorithm\n",
        "from sklearn.linear_model import LogisticRegression # Logistic regression algorithm\n",
        "from sklearn.svm import SVC # SVM algorithm\n",
        "from sklearn.ensemble import RandomForestClassifier # Random forest tree algorithm\n",
        "from sklearn.metrics import confusion_matrix # evaluation metric\n",
        "from sklearn.metrics import accuracy_score # evaluation metric\n",
        "from sklearn.metrics import f1_score # evaluation metric\n",
        "import seaborn as sns\n",
        "from pprint import pprint\n",
        "from sklearn import preprocessing\n",
        "#Metrics Libraries\n",
        "from sklearn import metrics\n",
        "from sklearn.metrics import classification_report\n",
        "from sklearn.model_selection import cross_val_score\n",
        "from sklearn.metrics import accuracy_score\n",
        "from sklearn.metrics import confusion_matrix\n",
        "#Misc libraries\n",
        "import warnings\n",
        "warnings.filterwarnings(\"ignore\")\n",
        "# summarize the number of unique values for each column using numpy\n",
        "from urllib.request import urlopen\n",
        "from numpy import loadtxt\n",
        "from numpy import unique\n",
        "from sklearn.preprocessing import LabelEncoder\n",
        "from sklearn.neighbors import KNeighborsClassifier\n",
        "from sklearn import metrics\n",
        "import gc\n",
        "from sklearn.neighbors import KNeighborsClassifier as KNN\n",
        "from sklearn.svm import SVC\n",
        "\n",
        "from sklearn.metrics import accuracy_score\n",
        "from sklearn.metrics import confusion_matrix\n",
        "from sklearn.metrics import classification_report\n",
        "from sklearn.metrics import roc_curve, auc\n",
        "from sklearn.metrics import roc_auc_score\n",
        "\n",
        "import tensorflow as tf\n",
        "from tensorflow import keras\n",
        "import numpy as np\n",
        "import pandas as pd\n",
        "import matplotlib.pyplot as plt\n",
        "from sklearn.preprocessing import StandardScaler, OneHotEncoder\n",
        "from sklearn.model_selection import train_test_split, cross_validate\n",
        "from sklearn.metrics import accuracy_score\n",
        "\n",
        "\n",
        "# first neural network with keras tutorial\n",
        "from numpy import loadtxt\n",
        "from keras.models import Sequential\n",
        "from keras.layers import Dense\n",
        "\n",
        "from sklearn.neural_network import MLPClassifier\n",
        "\n",
        "from sklearn.naive_bayes import GaussianNB\n",
        "\n",
        "from sklearn.metrics import plot_confusion_matrix\n",
        "# !pip install category_encoders\n",
        "# import category_encoders as ce\n",
        "\n",
        "\n",
        "import matplotlib.pyplot as plt\n"
      ]
    },
    {
      "cell_type": "markdown",
      "metadata": {
        "id": "J5AM-Ir2jfMO"
      },
      "source": [
        "**Vissualization Data**"
      ]
    },
    {
      "cell_type": "code",
      "execution_count": 47,
      "metadata": {
        "colab": {
          "base_uri": "https://localhost:8080/"
        },
        "id": "whW5k6NtU8UP",
        "outputId": "fa32504e-5d35-4510-82ea-e9d35d986cba"
      },
      "outputs": [
        {
          "name": "stdout",
          "output_type": "stream",
          "text": [
            "Duplicate Rows : Empty DataFrame\n",
            "Columns: [TransactionID, isFraud, TransactionDT, TransactionAmt, ProductCD, card1, card2, card3, card4, card5, card6, addr1, addr2, dist1, dist2, P_emaildomain, R_emaildomain, C1, C2, C3, C4, C5, C6, C7, C8, C9, C10, C11, C12, C13, C14, D1, D2, D3, D4, D5, D6, D7, D8, D9, D10, D11, D12, D13, D14, D15, M1, M2, M3, M4, M5, M6, M7, M8, M9, V1, V2, V3, V4, V5, V6, V7, V8, V9, V10, V11, V12, V13, V14, V15, V16, V17, V18, V19, V20, V21, V22, V23, V24, V25, V26, V27, V28, V29, V30, V31, V32, V33, V34, V35, V36, V37, V38, V39, V40, V41, V42, V43, V44, V45, ...]\n",
            "Index: []\n",
            "\n",
            "[0 rows x 434 columns]\n",
            "   TransactionID  isFraud  TransactionDT  TransactionAmt ProductCD  card1  \\\n",
            "0        2987000        0          86400            68.5         W  13926   \n",
            "1        2987001        0          86401            29.0         W   2755   \n",
            "2        2987002        0          86469            59.0         W   4663   \n",
            "3        2987003        0          86499            50.0         W  18132   \n",
            "4        2987004        0          86506            50.0         H   4497   \n",
            "\n",
            "    C1   C2   C3   C4  ...   V128  V129   V130   V131  V132    V133   V134  \\\n",
            "0  1.0  1.0  0.0  0.0  ...    0.0   0.0    0.0    0.0   0.0   117.0    0.0   \n",
            "1  1.0  1.0  0.0  0.0  ...    0.0   0.0    0.0    0.0   0.0     0.0    0.0   \n",
            "2  1.0  1.0  0.0  0.0  ...    0.0   0.0    0.0    0.0   0.0     0.0    0.0   \n",
            "3  2.0  5.0  0.0  0.0  ...  925.0   0.0  354.0  135.0  50.0  1404.0  790.0   \n",
            "4  1.0  1.0  0.0  0.0  ...    0.0   0.0    0.0    0.0   0.0     0.0    0.0   \n",
            "\n",
            "   V135  V136  V137  \n",
            "0   0.0   0.0   0.0  \n",
            "1   0.0   0.0   0.0  \n",
            "2   0.0   0.0   0.0  \n",
            "3   0.0   0.0   0.0  \n",
            "4   0.0   0.0   0.0  \n",
            "\n",
            "[5 rows x 64 columns]\n"
          ]
        }
      ],
      "source": [
        "train_transaction = pd.read_csv('train_transaction.csv')\n",
        "train_identity = pd.read_csv('train_identity.csv')\n",
        "\n",
        "# Merging the transaction and identity dataset\n",
        "train_data = train_transaction.merge(train_identity, how='left', on='TransactionID')\n",
        "del train_transaction, train_identity\n",
        "\n",
        "gc.collect()\n",
        "train_data.head()\n",
        "\n",
        "duplicate_rows = train_data[train_data.duplicated()]  \n",
        "print(\"Duplicate Rows :\", duplicate_rows)\n",
        "\n",
        "train_data.dropna(axis=1,inplace=True) #drops rows with Nan.\n",
        "print(train_data.head())"
      ]
    },
    {
      "cell_type": "code",
      "execution_count": 48,
      "metadata": {
        "colab": {
          "base_uri": "https://localhost:8080/"
        },
        "id": "IAk3qudok6OH",
        "outputId": "d2472eb4-934a-4d52-efea-7e4d2270ab7b"
      },
      "outputs": [
        {
          "name": "stdout",
          "output_type": "stream",
          "text": [
            "   TransactionID  isFraud  TransactionDT  TransactionAmt ProductCD  card1  \\\n",
            "0        2987000        0          86400            68.5         W  13926   \n",
            "1        2987001        0          86401            29.0         W   2755   \n",
            "2        2987002        0          86469            59.0         W   4663   \n",
            "3        2987003        0          86499            50.0         W  18132   \n",
            "4        2987004        0          86506            50.0         H   4497   \n",
            "\n",
            "    C1   C2   C3   C4  ...   V128  V129   V130   V131  V132    V133   V134  \\\n",
            "0  1.0  1.0  0.0  0.0  ...    0.0   0.0    0.0    0.0   0.0   117.0    0.0   \n",
            "1  1.0  1.0  0.0  0.0  ...    0.0   0.0    0.0    0.0   0.0     0.0    0.0   \n",
            "2  1.0  1.0  0.0  0.0  ...    0.0   0.0    0.0    0.0   0.0     0.0    0.0   \n",
            "3  2.0  5.0  0.0  0.0  ...  925.0   0.0  354.0  135.0  50.0  1404.0  790.0   \n",
            "4  1.0  1.0  0.0  0.0  ...    0.0   0.0    0.0    0.0   0.0     0.0    0.0   \n",
            "\n",
            "   V135  V136  V137  \n",
            "0   0.0   0.0   0.0  \n",
            "1   0.0   0.0   0.0  \n",
            "2   0.0   0.0   0.0  \n",
            "3   0.0   0.0   0.0  \n",
            "4   0.0   0.0   0.0  \n",
            "\n",
            "[5 rows x 64 columns]\n"
          ]
        },
        {
          "data": {
            "text/plain": [
              "TransactionID     0\n",
              "isFraud           0\n",
              "TransactionDT     0\n",
              "TransactionAmt    0\n",
              "ProductCD         0\n",
              "                 ..\n",
              "V133              0\n",
              "V134              0\n",
              "V135              0\n",
              "V136              0\n",
              "V137              0\n",
              "Length: 64, dtype: int64"
            ]
          },
          "execution_count": 48,
          "metadata": {},
          "output_type": "execute_result"
        }
      ],
      "source": [
        "print(train_data.head()) # show first 5 rows\n",
        "# indicating who many missing value (True means missing value)\n",
        "train_data.isnull()\n",
        "train_data.isnull().sum()"
      ]
    },
    {
      "cell_type": "code",
      "execution_count": 49,
      "metadata": {
        "colab": {
          "base_uri": "https://localhost:8080/"
        },
        "id": "2ygkbXNajiFq",
        "outputId": "7d0981bf-b4f2-42cd-eb90-abaef9cbd9b7"
      },
      "outputs": [
        {
          "name": "stdout",
          "output_type": "stream",
          "text": [
            "   TransactionID  isFraud  TransactionDT  TransactionAmt ProductCD  card1  \\\n",
            "0        2987000        0          86400            68.5         W  13926   \n",
            "1        2987001        0          86401            29.0         W   2755   \n",
            "2        2987002        0          86469            59.0         W   4663   \n",
            "3        2987003        0          86499            50.0         W  18132   \n",
            "4        2987004        0          86506            50.0         H   4497   \n",
            "\n",
            "    C1   C2   C3   C4  ...   V128  V129   V130   V131  V132    V133   V134  \\\n",
            "0  1.0  1.0  0.0  0.0  ...    0.0   0.0    0.0    0.0   0.0   117.0    0.0   \n",
            "1  1.0  1.0  0.0  0.0  ...    0.0   0.0    0.0    0.0   0.0     0.0    0.0   \n",
            "2  1.0  1.0  0.0  0.0  ...    0.0   0.0    0.0    0.0   0.0     0.0    0.0   \n",
            "3  2.0  5.0  0.0  0.0  ...  925.0   0.0  354.0  135.0  50.0  1404.0  790.0   \n",
            "4  1.0  1.0  0.0  0.0  ...    0.0   0.0    0.0    0.0   0.0     0.0    0.0   \n",
            "\n",
            "   V135  V136  V137  \n",
            "0   0.0   0.0   0.0  \n",
            "1   0.0   0.0   0.0  \n",
            "2   0.0   0.0   0.0  \n",
            "3   0.0   0.0   0.0  \n",
            "4   0.0   0.0   0.0  \n",
            "\n",
            "[5 rows x 64 columns]\n"
          ]
        }
      ],
      "source": [
        "train_data.dropna(axis=1,inplace=True) #drops rows with Nan.\n",
        "print(train_data.head())"
      ]
    },
    {
      "cell_type": "code",
      "execution_count": 50,
      "metadata": {
        "colab": {
          "base_uri": "https://localhost:8080/"
        },
        "id": "Dm0ZIiiqWhtZ",
        "outputId": "23df4320-6883-4e1e-8681-80e6d4c5c222"
      },
      "outputs": [
        {
          "name": "stdout",
          "output_type": "stream",
          "text": [
            "   TransactionID  isFraud  TransactionDT  TransactionAmt ProductCD  card1  \\\n",
            "0        2987000        0          86400            68.5         W  13926   \n",
            "1        2987001        0          86401            29.0         W   2755   \n",
            "2        2987002        0          86469            59.0         W   4663   \n",
            "3        2987003        0          86499            50.0         W  18132   \n",
            "4        2987004        0          86506            50.0         H   4497   \n",
            "\n",
            "    C1   C2   C3   C4  ...   V128  V129   V130   V131  V132    V133   V134  \\\n",
            "0  1.0  1.0  0.0  0.0  ...    0.0   0.0    0.0    0.0   0.0   117.0    0.0   \n",
            "1  1.0  1.0  0.0  0.0  ...    0.0   0.0    0.0    0.0   0.0     0.0    0.0   \n",
            "2  1.0  1.0  0.0  0.0  ...    0.0   0.0    0.0    0.0   0.0     0.0    0.0   \n",
            "3  2.0  5.0  0.0  0.0  ...  925.0   0.0  354.0  135.0  50.0  1404.0  790.0   \n",
            "4  1.0  1.0  0.0  0.0  ...    0.0   0.0    0.0    0.0   0.0     0.0    0.0   \n",
            "\n",
            "   V135  V136  V137  \n",
            "0   0.0   0.0   0.0  \n",
            "1   0.0   0.0   0.0  \n",
            "2   0.0   0.0   0.0  \n",
            "3   0.0   0.0   0.0  \n",
            "4   0.0   0.0   0.0  \n",
            "\n",
            "[5 rows x 64 columns]\n"
          ]
        }
      ],
      "source": [
        "train_data.drop_duplicates() #Our Dataset does not contain duplicates\n",
        "print(train_data.head())"
      ]
    },
    {
      "cell_type": "code",
      "execution_count": 51,
      "metadata": {
        "colab": {
          "base_uri": "https://localhost:8080/",
          "height": 399
        },
        "id": "QcIeOAMBWjby",
        "outputId": "802ca990-789e-4eba-9032-95806dfce805"
      },
      "outputs": [
        {
          "name": "stdout",
          "output_type": "stream",
          "text": [
            "0    13408\n",
            "1      380\n",
            "Name: isFraud, dtype: int64\n",
            "0    0.97244\n",
            "1    0.02756\n",
            "Name: isFraud, dtype: float64\n"
          ]
        },
        {
          "data": {
            "image/png": "[encoded data removed]",
            "text/plain": [
              "<Figure size 432x288 with 1 Axes>"
            ]
          },
          "metadata": {
            "needs_background": "light"
          },
          "output_type": "display_data"
        }
      ],
      "source": [
        "print(train_data['isFraud'].value_counts())\n",
        "\n",
        "# Print the proportions of each category\n",
        "print(train_data['isFraud'].value_counts(normalize=True))\n",
        "\n",
        "# Visualize the Categories\n",
        "sns.countplot(train_data['isFraud'])\n",
        "plt.title(\"Fraud detection\")\n",
        "plt.show()"
      ]
    },
    {
      "cell_type": "code",
      "execution_count": 52,
      "metadata": {
        "id": "H09ubwbjWlUW"
      },
      "outputs": [],
      "source": [
        "# # reading the database\n",
        "  \n",
        "# # Bar chart with day against tip\n",
        "# # hostogram of total_bills\n",
        "# # plt.hist(train_data['card4'])\n",
        "  \n",
        "# # plt.title(\"Histogram for card4 feature\")\n",
        "  \n",
        "# # Adding the legends\n",
        "# plt.show()"
      ]
    },
    {
      "cell_type": "code",
      "execution_count": 53,
      "metadata": {
        "id": "wAoZQKXqWnQm"
      },
      "outputs": [],
      "source": [
        "# # reading the database\n",
        "  \n",
        "# # Bar chart with day against tip\n",
        "# # hostogram of total_bills\n",
        "# plt.hist(train_data['card6'])\n",
        "  \n",
        "# plt.title(\"Histogram for card6 feature\")\n",
        "  \n",
        "# # Adding the legends\n",
        "# plt.show()"
      ]
    },
    {
      "cell_type": "code",
      "execution_count": 57,
      "metadata": {
        "id": "YUnPYIjOWpIs"
      },
      "outputs": [],
      "source": [
        "inputs_df = train_data.drop('ProductCD', axis=1)\n",
        "# inputs_df1 = inputs_df.drop('card4', axis=1)\n",
        "# inputs_df2 = inputs_df1.drop('card6', axis=1)\n",
        "# inputs_df2.head()"
      ]
    },
    {
      "cell_type": "code",
      "execution_count": 55,
      "metadata": {
        "id": "nNaebBiYWryr"
      },
      "outputs": [],
      "source": [
        "y=train_data['isFraud']\n",
        "train_data.drop(columns='isFraud')\n",
        "x=train_data"
      ]
    },
    {
      "cell_type": "code",
      "execution_count": 58,
      "metadata": {
        "id": "NPsCCKIEWtAv"
      },
      "outputs": [],
      "source": [
        "X_train, X_test, y_train, y_test = train_test_split(inputs_df,y, test_size=0.37, random_state=30, stratify=y)"
      ]
    },
    {
      "cell_type": "markdown",
      "metadata": {
        "id": "aiRNIjdss7nD"
      },
      "source": [
        "**Visualization DataSet**"
      ]
    },
    {
      "cell_type": "code",
      "execution_count": 59,
      "metadata": {
        "id": "mvMjab0m4E7c"
      },
      "outputs": [],
      "source": [
        "# ds.plot.scatter(x='letter', y='height', title='Letter-Recognition Dataset')"
      ]
    },
    {
      "cell_type": "code",
      "execution_count": 60,
      "metadata": {
        "id": "eGQRm6xF4ULa"
      },
      "outputs": [],
      "source": [
        "# ds['letter'].value_counts().sort_index().plot.bar()"
      ]
    },
    {
      "cell_type": "markdown",
      "metadata": {
        "id": "--fSAiQemZc3"
      },
      "source": [
        "**Pre processing**"
      ]
    },
    {
      "cell_type": "code",
      "execution_count": 64,
      "metadata": {
        "id": "L_h3QjEFmX4J"
      },
      "outputs": [],
      "source": [
        "# X_train, X_test, y_train, y_test = train_test_split(ds.drop('letter', axis=1), ds['letter'], test_size=0.3)\n",
        "# print('X_train: ', X_train)\n",
        "# print('Y_train: ', y_train)\n",
        "# print('X_test: ', X_test)\n",
        "# print('Y_test: ', y_test)"
      ]
    },
    {
      "cell_type": "code",
      "execution_count": 61,
      "metadata": {
        "colab": {
          "base_uri": "https://localhost:8080/"
        },
        "id": "SJikHzMhlF4G",
        "outputId": "c5cd16f7-c3ae-4a7d-8839-214c0250f2cc"
      },
      "outputs": [
        {
          "name": "stdout",
          "output_type": "stream",
          "text": [
            "              precision    recall  f1-score   support\n",
            "\n",
            "           0       0.97      1.00      0.99      4961\n",
            "           1       0.00      0.00      0.00       141\n",
            "\n",
            "    accuracy                           0.97      5102\n",
            "   macro avg       0.49      0.50      0.49      5102\n",
            "weighted avg       0.95      0.97      0.96      5102\n",
            "\n"
          ]
        }
      ],
      "source": [
        "modelSgd = MLPClassifier(hidden_layer_sizes=(150,100,50), activation='relu', solver='sgd', max_iter=300)\n",
        "modelSgd.fit(X_train, y_train)\n",
        "print(classification_report(y_test, modelSgd.predict(X_test)))"
      ]
    },
    {
      "cell_type": "code",
      "execution_count": 62,
      "metadata": {
        "colab": {
          "base_uri": "https://localhost:8080/"
        },
        "id": "Gdn1K3t4ooxf",
        "outputId": "50eaa0ab-d726-4513-ff93-bdbeaca4e557"
      },
      "outputs": [
        {
          "name": "stdout",
          "output_type": "stream",
          "text": [
            "              precision    recall  f1-score   support\n",
            "\n",
            "           0       0.97      1.00      0.99      4961\n",
            "           1       0.00      0.00      0.00       141\n",
            "\n",
            "    accuracy                           0.97      5102\n",
            "   macro avg       0.49      0.50      0.49      5102\n",
            "weighted avg       0.95      0.97      0.96      5102\n",
            "\n"
          ]
        }
      ],
      "source": [
        "modelAdam = MLPClassifier(hidden_layer_sizes=(250,250, 250), activation='relu', solver='adam', max_iter=2000)\n",
        "modelAdam.fit(X_train, y_train)\n",
        "print(classification_report(y_test, modelAdam.predict(X_test)))"
      ]
    },
    {
      "cell_type": "code",
      "execution_count": 63,
      "metadata": {
        "colab": {
          "base_uri": "https://localhost:8080/"
        },
        "id": "y5mXvHG1yVDa",
        "outputId": "ef848cc0-4e30-4290-8b98-954f444bfae7"
      },
      "outputs": [
        {
          "name": "stdout",
          "output_type": "stream",
          "text": [
            "              precision    recall  f1-score   support\n",
            "\n",
            "           0       0.97      1.00      0.99      4961\n",
            "           1       0.00      0.00      0.00       141\n",
            "\n",
            "    accuracy                           0.97      5102\n",
            "   macro avg       0.49      0.50      0.49      5102\n",
            "weighted avg       0.95      0.97      0.96      5102\n",
            "\n"
          ]
        }
      ],
      "source": [
        "modelAdam = MLPClassifier(hidden_layer_sizes=(200,200, 200), activation='logistic', solver='adam', max_iter=2000)\n",
        "modelAdam.fit(X_train, y_train)\n",
        "print(classification_report(y_test, modelAdam.predict(X_test)))"
      ]
    }
  ],
  "metadata": {
    "colab": {
      "collapsed_sections": [],
      "name": "MLP FRaud detection.ipynb",
      "provenance": []
    },
    "kernelspec": {
      "display_name": "Python 3",
      "name": "python3"
    },
    "language_info": {
      "name": "python"
    }
  },
  "nbformat": 4,
  "nbformat_minor": 0
}
